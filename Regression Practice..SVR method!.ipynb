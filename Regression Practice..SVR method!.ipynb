{
 "cells": [
  {
   "cell_type": "code",
   "execution_count": 1,
   "metadata": {},
   "outputs": [],
   "source": [
    "#We apply SVR for the boston dataset\n",
    "import pandas as pd\n",
    "import numpy as np\n",
    "import matplotlib.pyplot as plt"
   ]
  },
  {
   "cell_type": "code",
   "execution_count": 2,
   "metadata": {},
   "outputs": [],
   "source": [
    "names = ('CRIM','ZN','INDUS','CHAS','NOX','RM','AGE','DIS','RAD','TAX',\n",
    "         'PTRATIO','B','LSTAT','MEDV')\n",
    "dataset = pd.read_csv('boston_housingdata.csv',names=names)"
   ]
  },
  {
   "cell_type": "code",
   "execution_count": 3,
   "metadata": {},
   "outputs": [],
   "source": [
    "#Defining Independent and dependent variables\n",
    "X = dataset.iloc[:,0:13].values\n",
    "y = dataset.iloc[:,13].values"
   ]
  },
  {
   "cell_type": "code",
   "execution_count": 4,
   "metadata": {},
   "outputs": [],
   "source": [
    "#divide the dataset into training and testing dataset\n",
    "from sklearn.model_selection import train_test_split\n",
    "X_train,X_test,y_train,y_test = train_test_split(X, y,test_size = 0.2,random_state=42)"
   ]
  },
  {
   "cell_type": "code",
   "execution_count": 5,
   "metadata": {},
   "outputs": [],
   "source": [
    "from sklearn.preprocessing import StandardScaler\n",
    "sc_X = StandardScaler()\n",
    "X_train = sc_X.fit_transform(X_train)\n",
    "X_test = sc_X.transform(X_test)\n",
    "sc_y = StandardScaler()\n",
    "y_train = sc_y.fit_transform(y_train.reshape(-1,1))"
   ]
  },
  {
   "cell_type": "code",
   "execution_count": 6,
   "metadata": {},
   "outputs": [
    {
     "name": "stderr",
     "output_type": "stream",
     "text": [
      "C:\\Users\\reddys\\Anaconda3\\lib\\site-packages\\sklearn\\utils\\validation.py:578: DataConversionWarning: A column-vector y was passed when a 1d array was expected. Please change the shape of y to (n_samples, ), for example using ravel().\n",
      "  y = column_or_1d(y, warn=True)\n"
     ]
    },
    {
     "data": {
      "text/plain": [
       "SVR(C=1.0, cache_size=200, coef0=0.0, degree=3, epsilon=0.1, gamma='auto',\n",
       "  kernel='rbf', max_iter=-1, shrinking=True, tol=0.001, verbose=False)"
      ]
     },
     "execution_count": 6,
     "metadata": {},
     "output_type": "execute_result"
    }
   ],
   "source": [
    "from sklearn.svm import SVR\n",
    "regressor = SVR(kernel = 'rbf')\n",
    "regressor.fit(X_train, y_train)"
   ]
  },
  {
   "cell_type": "code",
   "execution_count": 7,
   "metadata": {},
   "outputs": [],
   "source": [
    "# Predicting a new result\n",
    "y_pred = regressor.predict(X_test)\n",
    "y_pred = sc_y.inverse_transform(y_pred)"
   ]
  },
  {
   "cell_type": "code",
   "execution_count": 8,
   "metadata": {},
   "outputs": [],
   "source": [
    "from sklearn import metrics\n",
    "#Mean Absolute Error\n",
    "mae = metrics.mean_absolute_error(y_test,y_pred)\n",
    "#Mean Squared Error\n",
    "mse = metrics.mean_squared_error(y_test,y_pred)\n",
    "#Root Mean Squared Error -Mostly used error metric\n",
    "rmse = (np.sqrt(metrics.mean_squared_error(y_test,y_pred)))"
   ]
  },
  {
   "cell_type": "code",
   "execution_count": 9,
   "metadata": {},
   "outputs": [
    {
     "data": {
      "text/plain": [
       "3.6061367879622117"
      ]
     },
     "execution_count": 9,
     "metadata": {},
     "output_type": "execute_result"
    }
   ],
   "source": [
    "rmse#Main parameter of error calculation"
   ]
  },
  {
   "cell_type": "code",
   "execution_count": 10,
   "metadata": {},
   "outputs": [
    {
     "data": {
      "text/plain": [
       "2.1101240271337844"
      ]
     },
     "execution_count": 10,
     "metadata": {},
     "output_type": "execute_result"
    }
   ],
   "source": [
    "mae"
   ]
  },
  {
   "cell_type": "code",
   "execution_count": 11,
   "metadata": {},
   "outputs": [
    {
     "data": {
      "text/plain": [
       "13.004222533494417"
      ]
     },
     "execution_count": 11,
     "metadata": {},
     "output_type": "execute_result"
    }
   ],
   "source": [
    "mse"
   ]
  },
  {
   "cell_type": "code",
   "execution_count": 13,
   "metadata": {},
   "outputs": [],
   "source": [
    "#After removing the features!!that is age and Indus let us see if we can reduce the RMSE\n",
    "X1 = dataset.iloc[:,[0,1,3,4,5,7,8,9,10,11,12]].values#after removing waste features\n",
    "y1 = dataset.iloc[:,13].values"
   ]
  },
  {
   "cell_type": "code",
   "execution_count": 14,
   "metadata": {},
   "outputs": [],
   "source": [
    "from sklearn.model_selection import train_test_split\n",
    "X1_train,X1_test,y1_train,y1_test = train_test_split(X1, y1,test_size = 0.2,random_state=42)"
   ]
  },
  {
   "cell_type": "code",
   "execution_count": 15,
   "metadata": {},
   "outputs": [],
   "source": [
    "from sklearn.preprocessing import StandardScaler\n",
    "sc_X1 = StandardScaler()\n",
    "X1_train = sc_X1.fit_transform(X1_train)\n",
    "X1_test = sc_X1.transform(X1_test)\n",
    "sc_y1 = StandardScaler()\n",
    "y1_train = sc_y1.fit_transform(y1_train.reshape(-1,1))"
   ]
  },
  {
   "cell_type": "code",
   "execution_count": 16,
   "metadata": {},
   "outputs": [
    {
     "name": "stderr",
     "output_type": "stream",
     "text": [
      "C:\\Users\\reddys\\Anaconda3\\lib\\site-packages\\sklearn\\utils\\validation.py:578: DataConversionWarning: A column-vector y was passed when a 1d array was expected. Please change the shape of y to (n_samples, ), for example using ravel().\n",
      "  y = column_or_1d(y, warn=True)\n"
     ]
    },
    {
     "data": {
      "text/plain": [
       "SVR(C=1.0, cache_size=200, coef0=0.0, degree=3, epsilon=0.1, gamma='auto',\n",
       "  kernel='rbf', max_iter=-1, shrinking=True, tol=0.001, verbose=False)"
      ]
     },
     "execution_count": 16,
     "metadata": {},
     "output_type": "execute_result"
    }
   ],
   "source": [
    "from sklearn.svm import SVR\n",
    "regressor = SVR(kernel = 'rbf')\n",
    "regressor.fit(X1_train, y1_train)"
   ]
  },
  {
   "cell_type": "code",
   "execution_count": 17,
   "metadata": {},
   "outputs": [],
   "source": [
    "# Predicting a new result\n",
    "y1_pred = regressor.predict(X1_test)\n",
    "y1_pred = sc_y1.inverse_transform(y1_pred)"
   ]
  },
  {
   "cell_type": "code",
   "execution_count": 18,
   "metadata": {},
   "outputs": [],
   "source": [
    "from sklearn import metrics\n",
    "#Mean Absolute Error\n",
    "mae1 = metrics.mean_absolute_error(y1_test,y1_pred)\n",
    "#Mean Squared Error\n",
    "mse1 = metrics.mean_squared_error(y1_test,y1_pred)\n",
    "#Root Mean Squared Error -Mostly used error metric\n",
    "rmse1 = (np.sqrt(metrics.mean_squared_error(y1_test,y1_pred)))"
   ]
  },
  {
   "cell_type": "code",
   "execution_count": 19,
   "metadata": {},
   "outputs": [
    {
     "data": {
      "text/plain": [
       "3.694760970760869"
      ]
     },
     "execution_count": 19,
     "metadata": {},
     "output_type": "execute_result"
    }
   ],
   "source": [
    "rmse1"
   ]
  },
  {
   "cell_type": "code",
   "execution_count": 20,
   "metadata": {},
   "outputs": [],
   "source": [
    "#We see the error for the removal of feature is increasing since the SVR method thinks that every single feature is important for\n",
    "#the dependent variable"
   ]
  },
  {
   "cell_type": "code",
   "execution_count": 21,
   "metadata": {},
   "outputs": [
    {
     "data": {
      "text/plain": [
       "array([25.53495868, 31.72690901, 16.09631559, 23.17971845, 16.4201042 ,\n",
       "       20.69894406, 17.26062822, 15.21593208, 21.72349636, 19.21687413,\n",
       "       19.72548094, 17.66876082, 14.93492333, 21.37504798, 17.93307848,\n",
       "       23.44699944, 19.25801372,  9.12350182, 43.41810357, 14.48724893,\n",
       "       25.20822925, 27.33308947, 14.50705399, 22.84293717, 17.0887402 ,\n",
       "       17.21254854, 21.36173362, 12.17200558, 19.56909858, 18.8681689 ,\n",
       "       20.34105556, 23.83053139, 20.06412316, 23.10852551, 15.09244874,\n",
       "       16.9314876 , 33.0188639 , 20.42772295, 21.84200805, 24.36029922,\n",
       "       17.127447  , 28.89883326, 43.35684162, 18.66917281, 25.33842631,\n",
       "       16.22404633, 15.25931413, 25.59399834, 18.93035365, 27.8146078 ,\n",
       "       18.79584225, 34.72004886, 16.75136625, 24.14686441, 43.78534017,\n",
       "       22.96810874, 16.45298886, 31.39374897, 24.59619967, 16.94274219,\n",
       "       26.05983383, 33.58565924, 30.03525082, 18.9479371 , 23.79021859,\n",
       "       18.51312113, 16.03920232, 23.90985177, 28.97218946, 13.2678201 ,\n",
       "       21.48219495, 25.23967915,  9.28307181, 20.41551469, 22.4180744 ,\n",
       "        8.89384216, 19.42958931, 42.23842615, 12.67683155, 12.20602503,\n",
       "       19.97307394, 11.85726512, 18.68902553, 10.60191428, 19.51896219,\n",
       "       27.71560608, 16.8129513 , 24.59247006, 24.65554424, 19.33886359,\n",
       "       23.89766538,  8.89181377, 19.57051244, 18.36880882, 26.03463829,\n",
       "       20.16341698, 23.57683238, 13.61975923, 10.90448416, 11.54535412,\n",
       "       22.39370369, 23.06663785])"
      ]
     },
     "execution_count": 21,
     "metadata": {},
     "output_type": "execute_result"
    }
   ],
   "source": [
    "y_pred"
   ]
  },
  {
   "cell_type": "code",
   "execution_count": 22,
   "metadata": {},
   "outputs": [
    {
     "data": {
      "text/plain": [
       "array([23.6, 32.4, 13.6, 22.8, 16.1, 20. , 17.8, 14. , 19.6, 16.8, 21.5,\n",
       "       18.9,  7. , 21.2, 18.5, 29.8, 18.8, 10.2, 50. , 14.1, 25.2, 29.1,\n",
       "       12.7, 22.4, 14.2, 13.8, 20.3, 14.9, 21.7, 18.3, 23.1, 23.8, 15. ,\n",
       "       20.8, 19.1, 19.4, 34.7, 19.5, 24.4, 23.4, 19.7, 28.2, 50. , 17.4,\n",
       "       22.6, 15.1, 13.1, 24.2, 19.9, 24. , 18.9, 35.4, 15.2, 26.5, 43.5,\n",
       "       21.2, 18.4, 28.5, 23.9, 18.5, 25. , 35.4, 31.5, 20.2, 24.1, 20. ,\n",
       "       13.1, 24.8, 30.8, 12.7, 20. , 23.7, 10.8, 20.6, 20.8,  5. , 20.1,\n",
       "       48.5, 10.9,  7. , 20.9, 17.2, 20.9,  9.7, 19.4, 29. , 16.4, 25. ,\n",
       "       25. , 17.1, 23.2, 10.4, 19.6, 17.2, 27.5, 23. , 50. , 17.9,  9.6,\n",
       "       17.2, 22.5, 21.4])"
      ]
     },
     "execution_count": 22,
     "metadata": {},
     "output_type": "execute_result"
    }
   ],
   "source": [
    "y_test"
   ]
  },
  {
   "cell_type": "code",
   "execution_count": 23,
   "metadata": {},
   "outputs": [
    {
     "data": {
      "text/plain": [
       "array([26.61095381, 31.97033367, 16.48481376, 22.94776311, 16.35764336,\n",
       "       21.43665888, 17.82965364, 14.88638122, 21.91943671, 19.25367987,\n",
       "       21.05885701, 18.95364616, 16.02942991, 20.42998675, 19.24579585,\n",
       "       22.35693074, 19.76782536,  8.81603407, 43.77307272, 14.77762121,\n",
       "       23.50206833, 26.21000865, 13.8079066 , 21.06504123, 17.1789039 ,\n",
       "       17.44449668, 20.98601397, 11.59589119, 20.70049461, 18.63638402,\n",
       "       21.91858328, 23.27931961, 20.43286061, 23.63981583, 15.10531106,\n",
       "       16.90462055, 33.01473598, 19.78069728, 21.21012998, 22.99853654,\n",
       "       15.89839374, 29.63653483, 43.24626958, 18.02874715, 24.92254232,\n",
       "       16.44497662, 15.41676643, 24.22275737, 18.76720958, 28.26751212,\n",
       "       20.29377924, 34.38179777, 16.4683406 , 23.52931463, 42.66019382,\n",
       "       22.47547907, 16.75789371, 31.65743589, 23.67572575, 15.9938077 ,\n",
       "       25.11555149, 33.89107028, 28.53156747, 17.0223481 , 24.20084346,\n",
       "       20.26545354, 16.24201693, 23.15301399, 28.6668483 , 13.11940496,\n",
       "       20.32161841, 25.08909886,  9.13138313, 20.62202752, 21.57020697,\n",
       "        9.42917251, 20.21151962, 42.30006168, 13.01181379, 12.46522739,\n",
       "       20.13226966, 11.73768157, 18.66482594, 10.25371033, 21.17592026,\n",
       "       28.11372627, 16.56828558, 23.53000048, 23.90541928, 18.91719321,\n",
       "       23.33042917,  9.7316663 , 19.15809756, 18.30798331, 25.67367136,\n",
       "       19.64111388, 24.10546085, 14.25952897, 10.23885661, 10.76800347,\n",
       "       21.22108466, 22.28194197])"
      ]
     },
     "execution_count": 23,
     "metadata": {},
     "output_type": "execute_result"
    }
   ],
   "source": [
    "y1_pred#After 2 features are removed"
   ]
  },
  {
   "cell_type": "code",
   "execution_count": 24,
   "metadata": {},
   "outputs": [
    {
     "data": {
      "text/plain": [
       "array([23.6, 32.4, 13.6, 22.8, 16.1, 20. , 17.8, 14. , 19.6, 16.8, 21.5,\n",
       "       18.9,  7. , 21.2, 18.5, 29.8, 18.8, 10.2, 50. , 14.1, 25.2, 29.1,\n",
       "       12.7, 22.4, 14.2, 13.8, 20.3, 14.9, 21.7, 18.3, 23.1, 23.8, 15. ,\n",
       "       20.8, 19.1, 19.4, 34.7, 19.5, 24.4, 23.4, 19.7, 28.2, 50. , 17.4,\n",
       "       22.6, 15.1, 13.1, 24.2, 19.9, 24. , 18.9, 35.4, 15.2, 26.5, 43.5,\n",
       "       21.2, 18.4, 28.5, 23.9, 18.5, 25. , 35.4, 31.5, 20.2, 24.1, 20. ,\n",
       "       13.1, 24.8, 30.8, 12.7, 20. , 23.7, 10.8, 20.6, 20.8,  5. , 20.1,\n",
       "       48.5, 10.9,  7. , 20.9, 17.2, 20.9,  9.7, 19.4, 29. , 16.4, 25. ,\n",
       "       25. , 17.1, 23.2, 10.4, 19.6, 17.2, 27.5, 23. , 50. , 17.9,  9.6,\n",
       "       17.2, 22.5, 21.4])"
      ]
     },
     "execution_count": 24,
     "metadata": {},
     "output_type": "execute_result"
    }
   ],
   "source": [
    "y1_test#After 2 features are removed!!"
   ]
  },
  {
   "cell_type": "code",
   "execution_count": null,
   "metadata": {},
   "outputs": [],
   "source": []
  }
 ],
 "metadata": {
  "kernelspec": {
   "display_name": "Python 3",
   "language": "python",
   "name": "python3"
  },
  "language_info": {
   "codemirror_mode": {
    "name": "ipython",
    "version": 3
   },
   "file_extension": ".py",
   "mimetype": "text/x-python",
   "name": "python",
   "nbconvert_exporter": "python",
   "pygments_lexer": "ipython3",
   "version": "3.6.6"
  },
  "varInspector": {
   "cols": {
    "lenName": 16,
    "lenType": 16,
    "lenVar": 40
   },
   "kernels_config": {
    "python": {
     "delete_cmd_postfix": "",
     "delete_cmd_prefix": "del ",
     "library": "var_list.py",
     "varRefreshCmd": "print(var_dic_list())"
    },
    "r": {
     "delete_cmd_postfix": ") ",
     "delete_cmd_prefix": "rm(",
     "library": "var_list.r",
     "varRefreshCmd": "cat(var_dic_list()) "
    }
   },
   "position": {
    "height": "223px",
    "left": "796px",
    "right": "20px",
    "top": "80px",
    "width": "420px"
   },
   "types_to_exclude": [
    "module",
    "function",
    "builtin_function_or_method",
    "instance",
    "_Feature"
   ],
   "window_display": false
  }
 },
 "nbformat": 4,
 "nbformat_minor": 2
}
